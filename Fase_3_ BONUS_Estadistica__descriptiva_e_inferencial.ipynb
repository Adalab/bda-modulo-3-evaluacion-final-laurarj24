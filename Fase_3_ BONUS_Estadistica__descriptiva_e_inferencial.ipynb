{
 "cells": [
  {
   "cell_type": "code",
   "execution_count": 4,
   "metadata": {},
   "outputs": [],
   "source": [
    "# Lo primero que hago para poder trabajar con los datos es importar las librerias necesarias:\n",
    "\n",
    "# Para tratamiento de datos:\n",
    "# ----------------------------------------------------------------------\n",
    "import pandas as pd\n",
    "import numpy as np\n",
    "\n",
    "# Librerías de visualización\n",
    "# -----------------------------------------------------------------------\n",
    "import seaborn as sns\n",
    "import matplotlib.pyplot as plt\n",
    "\n",
    "\n",
    "# Evaluar linealidad de las relaciones entre las variables\n",
    "# y la distribución de las variables\n",
    "# ------------------------------------------------------------------------------\n",
    "import scipy.stats as stats\n",
    "from scipy.stats import chi2_contingency, ttest_ind, shapiro, poisson, chisquare, expon, kstest\n",
    "\n",
    "\n",
    "\n",
    "# configuro pandas para que me muestre todas las columnas del dataframe\n",
    "\n",
    "pd.set_option('display.max_columns', None)\n",
    "\n"
   ]
  },
  {
   "cell_type": "code",
   "execution_count": 5,
   "metadata": {},
   "outputs": [
    {
     "data": {
      "text/html": [
       "<div>\n",
       "<style scoped>\n",
       "    .dataframe tbody tr th:only-of-type {\n",
       "        vertical-align: middle;\n",
       "    }\n",
       "\n",
       "    .dataframe tbody tr th {\n",
       "        vertical-align: top;\n",
       "    }\n",
       "\n",
       "    .dataframe thead th {\n",
       "        text-align: right;\n",
       "    }\n",
       "</style>\n",
       "<table border=\"1\" class=\"dataframe\">\n",
       "  <thead>\n",
       "    <tr style=\"text-align: right;\">\n",
       "      <th></th>\n",
       "      <th>Loyalty Number</th>\n",
       "      <th>Country</th>\n",
       "      <th>Province</th>\n",
       "      <th>City</th>\n",
       "      <th>Postal Code</th>\n",
       "      <th>Gender</th>\n",
       "      <th>Education</th>\n",
       "      <th>Salary</th>\n",
       "      <th>Marital Status</th>\n",
       "      <th>Loyalty Card</th>\n",
       "      <th>CLV</th>\n",
       "      <th>Enrollment Type</th>\n",
       "      <th>Enrollment Year</th>\n",
       "      <th>Enrollment Month</th>\n",
       "      <th>Cancellation Year</th>\n",
       "      <th>Cancellation Month</th>\n",
       "    </tr>\n",
       "  </thead>\n",
       "  <tbody>\n",
       "    <tr>\n",
       "      <th>0</th>\n",
       "      <td>480934</td>\n",
       "      <td>Canada</td>\n",
       "      <td>Ontario</td>\n",
       "      <td>Toronto</td>\n",
       "      <td>M2Z 4K1</td>\n",
       "      <td>Female</td>\n",
       "      <td>Bachelor</td>\n",
       "      <td>83236.0</td>\n",
       "      <td>Married</td>\n",
       "      <td>Star</td>\n",
       "      <td>3839.14</td>\n",
       "      <td>Standard</td>\n",
       "      <td>2016</td>\n",
       "      <td>2</td>\n",
       "      <td>NaN</td>\n",
       "      <td>NaN</td>\n",
       "    </tr>\n",
       "    <tr>\n",
       "      <th>1</th>\n",
       "      <td>549612</td>\n",
       "      <td>Canada</td>\n",
       "      <td>Alberta</td>\n",
       "      <td>Edmonton</td>\n",
       "      <td>T3G 6Y6</td>\n",
       "      <td>Male</td>\n",
       "      <td>College</td>\n",
       "      <td>73479.0</td>\n",
       "      <td>Divorced</td>\n",
       "      <td>Star</td>\n",
       "      <td>3839.61</td>\n",
       "      <td>Standard</td>\n",
       "      <td>2016</td>\n",
       "      <td>3</td>\n",
       "      <td>NaN</td>\n",
       "      <td>NaN</td>\n",
       "    </tr>\n",
       "  </tbody>\n",
       "</table>\n",
       "</div>"
      ],
      "text/plain": [
       "   Loyalty Number Country Province      City Postal Code  Gender Education  \\\n",
       "0          480934  Canada  Ontario   Toronto     M2Z 4K1  Female  Bachelor   \n",
       "1          549612  Canada  Alberta  Edmonton     T3G 6Y6    Male   College   \n",
       "\n",
       "    Salary Marital Status Loyalty Card      CLV Enrollment Type  \\\n",
       "0  83236.0        Married         Star  3839.14        Standard   \n",
       "1  73479.0       Divorced         Star  3839.61        Standard   \n",
       "\n",
       "   Enrollment Year  Enrollment Month  Cancellation Year  Cancellation Month  \n",
       "0             2016                 2                NaN                 NaN  \n",
       "1             2016                 3                NaN                 NaN  "
      ]
     },
     "metadata": {},
     "output_type": "display_data"
    },
    {
     "data": {
      "text/html": [
       "<div>\n",
       "<style scoped>\n",
       "    .dataframe tbody tr th:only-of-type {\n",
       "        vertical-align: middle;\n",
       "    }\n",
       "\n",
       "    .dataframe tbody tr th {\n",
       "        vertical-align: top;\n",
       "    }\n",
       "\n",
       "    .dataframe thead th {\n",
       "        text-align: right;\n",
       "    }\n",
       "</style>\n",
       "<table border=\"1\" class=\"dataframe\">\n",
       "  <thead>\n",
       "    <tr style=\"text-align: right;\">\n",
       "      <th></th>\n",
       "      <th>Loyalty Number</th>\n",
       "      <th>Province</th>\n",
       "      <th>City</th>\n",
       "      <th>Postal Code</th>\n",
       "      <th>Gender</th>\n",
       "      <th>Education</th>\n",
       "      <th>Salary</th>\n",
       "      <th>Marital Status</th>\n",
       "      <th>Loyalty Card</th>\n",
       "      <th>CLV</th>\n",
       "      <th>Enrollment Type</th>\n",
       "      <th>Enrollment Year</th>\n",
       "      <th>Enrollment Month</th>\n",
       "      <th>Cancellation Year</th>\n",
       "      <th>Cancellation Month</th>\n",
       "      <th>Year</th>\n",
       "      <th>Month</th>\n",
       "      <th>Flights Booked</th>\n",
       "      <th>Flights with Companions</th>\n",
       "      <th>Total Flights</th>\n",
       "      <th>Distance</th>\n",
       "      <th>Points Accumulated</th>\n",
       "      <th>Points Redeemed</th>\n",
       "      <th>Dollar Cost Points Redeemed</th>\n",
       "    </tr>\n",
       "  </thead>\n",
       "  <tbody>\n",
       "    <tr>\n",
       "      <th>0</th>\n",
       "      <td>480934</td>\n",
       "      <td>Ontario</td>\n",
       "      <td>Toronto</td>\n",
       "      <td>M2Z 4K1</td>\n",
       "      <td>Female</td>\n",
       "      <td>Bachelor</td>\n",
       "      <td>83236.0</td>\n",
       "      <td>Married</td>\n",
       "      <td>Star</td>\n",
       "      <td>3839.14</td>\n",
       "      <td>Standard</td>\n",
       "      <td>2016.0</td>\n",
       "      <td>2.0</td>\n",
       "      <td>NaN</td>\n",
       "      <td>NaN</td>\n",
       "      <td>2017.0</td>\n",
       "      <td>1.0</td>\n",
       "      <td>0</td>\n",
       "      <td>0</td>\n",
       "      <td>0</td>\n",
       "      <td>0</td>\n",
       "      <td>0.0</td>\n",
       "      <td>0</td>\n",
       "      <td>0</td>\n",
       "    </tr>\n",
       "    <tr>\n",
       "      <th>1</th>\n",
       "      <td>480934</td>\n",
       "      <td>Ontario</td>\n",
       "      <td>Toronto</td>\n",
       "      <td>M2Z 4K1</td>\n",
       "      <td>Female</td>\n",
       "      <td>Bachelor</td>\n",
       "      <td>83236.0</td>\n",
       "      <td>Married</td>\n",
       "      <td>Star</td>\n",
       "      <td>3839.14</td>\n",
       "      <td>Standard</td>\n",
       "      <td>2016.0</td>\n",
       "      <td>2.0</td>\n",
       "      <td>NaN</td>\n",
       "      <td>NaN</td>\n",
       "      <td>2017.0</td>\n",
       "      <td>2.0</td>\n",
       "      <td>3</td>\n",
       "      <td>0</td>\n",
       "      <td>3</td>\n",
       "      <td>2823</td>\n",
       "      <td>282.0</td>\n",
       "      <td>0</td>\n",
       "      <td>0</td>\n",
       "    </tr>\n",
       "  </tbody>\n",
       "</table>\n",
       "</div>"
      ],
      "text/plain": [
       "   Loyalty Number Province     City Postal Code  Gender Education   Salary  \\\n",
       "0          480934  Ontario  Toronto     M2Z 4K1  Female  Bachelor  83236.0   \n",
       "1          480934  Ontario  Toronto     M2Z 4K1  Female  Bachelor  83236.0   \n",
       "\n",
       "  Marital Status Loyalty Card      CLV Enrollment Type  Enrollment Year  \\\n",
       "0        Married         Star  3839.14        Standard           2016.0   \n",
       "1        Married         Star  3839.14        Standard           2016.0   \n",
       "\n",
       "   Enrollment Month  Cancellation Year  Cancellation Month    Year  Month  \\\n",
       "0               2.0                NaN                 NaN  2017.0    1.0   \n",
       "1               2.0                NaN                 NaN  2017.0    2.0   \n",
       "\n",
       "   Flights Booked  Flights with Companions  Total Flights  Distance  \\\n",
       "0               0                        0              0         0   \n",
       "1               3                        0              3      2823   \n",
       "\n",
       "   Points Accumulated  Points Redeemed  Dollar Cost Points Redeemed  \n",
       "0                 0.0                0                            0  \n",
       "1               282.0                0                            0  "
      ]
     },
     "metadata": {},
     "output_type": "display_data"
    }
   ],
   "source": [
    "# ABRO LOS CSV PARA PODER TRABAJAR CON ELLOS\n",
    "\n",
    "customer_info = pd.read_csv('files/Customer Info Limpio.csv')\n",
    "customer_final = pd.read_csv('files/Customer Final Limpio.csv')\n",
    "\n",
    "# hacemos un head de ambos para ver que se han cargado bien\n",
    "\n",
    "display(customer_info.head(2))\n",
    "display(customer_final.head(2))"
   ]
  },
  {
   "cell_type": "markdown",
   "metadata": {},
   "source": [
    "## FASE 3 (BONUS) : Evaluación de Diferencias en Reservas de Vuelos por Nivel Educativo"
   ]
  },
  {
   "cell_type": "markdown",
   "metadata": {},
   "source": [
    "### 3.1: Preparación de los Datos"
   ]
  },
  {
   "cell_type": "code",
   "execution_count": 6,
   "metadata": {},
   "outputs": [
    {
     "name": "stdout",
     "output_type": "stream",
     "text": [
      "Los diferentes niveles educativos que hay son ['Bachelor' 'College' 'Master' 'High School or Below' 'Doctor']\n"
     ]
    }
   ],
   "source": [
    "# Vamos a tener un grupo por cada nivel educativo, sobre el que calcularemos en numero de reservas de vuelos y haremos las comparativas\n",
    "\n",
    "print(f\"\"\"Los diferentes niveles educativos que hay son {customer_final['Education'].unique()}\"\"\")"
   ]
  },
  {
   "cell_type": "code",
   "execution_count": 7,
   "metadata": {},
   "outputs": [
    {
     "name": "stdout",
     "output_type": "stream",
     "text": [
      "\n",
      "Saco una lista con todas las diferentes categorias de educacion que hay en el dataframe\n",
      "lista_education ==> ['Bachelor' 'College' 'Master' 'High School or Below' 'Doctor']\n",
      "Los grupos que tenemos son 5, que son:\n",
      "\n",
      "BACHELOR ==>\n"
     ]
    },
    {
     "data": {
      "text/html": [
       "<div>\n",
       "<style scoped>\n",
       "    .dataframe tbody tr th:only-of-type {\n",
       "        vertical-align: middle;\n",
       "    }\n",
       "\n",
       "    .dataframe tbody tr th {\n",
       "        vertical-align: top;\n",
       "    }\n",
       "\n",
       "    .dataframe thead th {\n",
       "        text-align: right;\n",
       "    }\n",
       "</style>\n",
       "<table border=\"1\" class=\"dataframe\">\n",
       "  <thead>\n",
       "    <tr style=\"text-align: right;\">\n",
       "      <th></th>\n",
       "      <th>Education</th>\n",
       "      <th>Flights Booked</th>\n",
       "    </tr>\n",
       "  </thead>\n",
       "  <tbody>\n",
       "    <tr>\n",
       "      <th>0</th>\n",
       "      <td>Bachelor</td>\n",
       "      <td>0</td>\n",
       "    </tr>\n",
       "    <tr>\n",
       "      <th>1</th>\n",
       "      <td>Bachelor</td>\n",
       "      <td>3</td>\n",
       "    </tr>\n",
       "    <tr>\n",
       "      <th>2</th>\n",
       "      <td>Bachelor</td>\n",
       "      <td>0</td>\n",
       "    </tr>\n",
       "  </tbody>\n",
       "</table>\n",
       "</div>"
      ],
      "text/plain": [
       "  Education  Flights Booked\n",
       "0  Bachelor               0\n",
       "1  Bachelor               3\n",
       "2  Bachelor               0"
      ]
     },
     "metadata": {},
     "output_type": "display_data"
    },
    {
     "name": "stdout",
     "output_type": "stream",
     "text": [
      "COLLEGE ==>\n"
     ]
    },
    {
     "data": {
      "text/html": [
       "<div>\n",
       "<style scoped>\n",
       "    .dataframe tbody tr th:only-of-type {\n",
       "        vertical-align: middle;\n",
       "    }\n",
       "\n",
       "    .dataframe tbody tr th {\n",
       "        vertical-align: top;\n",
       "    }\n",
       "\n",
       "    .dataframe thead th {\n",
       "        text-align: right;\n",
       "    }\n",
       "</style>\n",
       "<table border=\"1\" class=\"dataframe\">\n",
       "  <thead>\n",
       "    <tr style=\"text-align: right;\">\n",
       "      <th></th>\n",
       "      <th>Education</th>\n",
       "      <th>Flights Booked</th>\n",
       "    </tr>\n",
       "  </thead>\n",
       "  <tbody>\n",
       "    <tr>\n",
       "      <th>24</th>\n",
       "      <td>College</td>\n",
       "      <td>9</td>\n",
       "    </tr>\n",
       "    <tr>\n",
       "      <th>25</th>\n",
       "      <td>College</td>\n",
       "      <td>9</td>\n",
       "    </tr>\n",
       "    <tr>\n",
       "      <th>26</th>\n",
       "      <td>College</td>\n",
       "      <td>14</td>\n",
       "    </tr>\n",
       "  </tbody>\n",
       "</table>\n",
       "</div>"
      ],
      "text/plain": [
       "   Education  Flights Booked\n",
       "24   College               9\n",
       "25   College               9\n",
       "26   College              14"
      ]
     },
     "metadata": {},
     "output_type": "display_data"
    },
    {
     "name": "stdout",
     "output_type": "stream",
     "text": [
      "MASTER ==>\n"
     ]
    },
    {
     "data": {
      "text/html": [
       "<div>\n",
       "<style scoped>\n",
       "    .dataframe tbody tr th:only-of-type {\n",
       "        vertical-align: middle;\n",
       "    }\n",
       "\n",
       "    .dataframe tbody tr th {\n",
       "        vertical-align: top;\n",
       "    }\n",
       "\n",
       "    .dataframe thead th {\n",
       "        text-align: right;\n",
       "    }\n",
       "</style>\n",
       "<table border=\"1\" class=\"dataframe\">\n",
       "  <thead>\n",
       "    <tr style=\"text-align: right;\">\n",
       "      <th></th>\n",
       "      <th>Education</th>\n",
       "      <th>Flights Booked</th>\n",
       "    </tr>\n",
       "  </thead>\n",
       "  <tbody>\n",
       "    <tr>\n",
       "      <th>381</th>\n",
       "      <td>Master</td>\n",
       "      <td>2</td>\n",
       "    </tr>\n",
       "    <tr>\n",
       "      <th>382</th>\n",
       "      <td>Master</td>\n",
       "      <td>12</td>\n",
       "    </tr>\n",
       "    <tr>\n",
       "      <th>383</th>\n",
       "      <td>Master</td>\n",
       "      <td>0</td>\n",
       "    </tr>\n",
       "  </tbody>\n",
       "</table>\n",
       "</div>"
      ],
      "text/plain": [
       "    Education  Flights Booked\n",
       "381    Master               2\n",
       "382    Master              12\n",
       "383    Master               0"
      ]
     },
     "metadata": {},
     "output_type": "display_data"
    },
    {
     "name": "stdout",
     "output_type": "stream",
     "text": [
      "HIGH SCHOOL ==>\n"
     ]
    },
    {
     "data": {
      "text/html": [
       "<div>\n",
       "<style scoped>\n",
       "    .dataframe tbody tr th:only-of-type {\n",
       "        vertical-align: middle;\n",
       "    }\n",
       "\n",
       "    .dataframe tbody tr th {\n",
       "        vertical-align: top;\n",
       "    }\n",
       "\n",
       "    .dataframe thead th {\n",
       "        text-align: right;\n",
       "    }\n",
       "</style>\n",
       "<table border=\"1\" class=\"dataframe\">\n",
       "  <thead>\n",
       "    <tr style=\"text-align: right;\">\n",
       "      <th></th>\n",
       "      <th>Education</th>\n",
       "      <th>Flights Booked</th>\n",
       "    </tr>\n",
       "  </thead>\n",
       "  <tbody>\n",
       "    <tr>\n",
       "      <th>813</th>\n",
       "      <td>High School or Below</td>\n",
       "      <td>9</td>\n",
       "    </tr>\n",
       "    <tr>\n",
       "      <th>814</th>\n",
       "      <td>High School or Below</td>\n",
       "      <td>13</td>\n",
       "    </tr>\n",
       "    <tr>\n",
       "      <th>815</th>\n",
       "      <td>High School or Below</td>\n",
       "      <td>2</td>\n",
       "    </tr>\n",
       "  </tbody>\n",
       "</table>\n",
       "</div>"
      ],
      "text/plain": [
       "                Education  Flights Booked\n",
       "813  High School or Below               9\n",
       "814  High School or Below              13\n",
       "815  High School or Below               2"
      ]
     },
     "metadata": {},
     "output_type": "display_data"
    },
    {
     "name": "stdout",
     "output_type": "stream",
     "text": [
      "DOCTOR ==>\n"
     ]
    },
    {
     "data": {
      "text/html": [
       "<div>\n",
       "<style scoped>\n",
       "    .dataframe tbody tr th:only-of-type {\n",
       "        vertical-align: middle;\n",
       "    }\n",
       "\n",
       "    .dataframe tbody tr th {\n",
       "        vertical-align: top;\n",
       "    }\n",
       "\n",
       "    .dataframe thead th {\n",
       "        text-align: right;\n",
       "    }\n",
       "</style>\n",
       "<table border=\"1\" class=\"dataframe\">\n",
       "  <thead>\n",
       "    <tr style=\"text-align: right;\">\n",
       "      <th></th>\n",
       "      <th>Education</th>\n",
       "      <th>Flights Booked</th>\n",
       "    </tr>\n",
       "  </thead>\n",
       "  <tbody>\n",
       "    <tr>\n",
       "      <th>1341</th>\n",
       "      <td>Doctor</td>\n",
       "      <td>7</td>\n",
       "    </tr>\n",
       "    <tr>\n",
       "      <th>1342</th>\n",
       "      <td>Doctor</td>\n",
       "      <td>0</td>\n",
       "    </tr>\n",
       "    <tr>\n",
       "      <th>1343</th>\n",
       "      <td>Doctor</td>\n",
       "      <td>15</td>\n",
       "    </tr>\n",
       "  </tbody>\n",
       "</table>\n",
       "</div>"
      ],
      "text/plain": [
       "     Education  Flights Booked\n",
       "1341    Doctor               7\n",
       "1342    Doctor               0\n",
       "1343    Doctor              15"
      ]
     },
     "metadata": {},
     "output_type": "display_data"
    }
   ],
   "source": [
    "\n",
    "lista_education = customer_final['Education'].unique() \n",
    "\n",
    "print(f\"\"\"\n",
    "Saco una lista con todas las diferentes categorias de educacion que hay en el dataframe\n",
    "lista_education ==> {lista_education}\"\"\") \n",
    "\n",
    "# Hago un bucle for para modificar la lista y cada elemento que sea un dataframe con la columnas que queremos seleccionar, \n",
    "# para ello itero sobre lista_education y modifico cada index de esta nueva lista (al que accedo con el contador) para que \n",
    "# en cada elemento tengamos un df con los datos buscados, y poder así hacer los grupos.\n",
    "\n",
    "contador = 0\n",
    "for i in lista_education:\n",
    "    lista_education[contador] = customer_final[customer_final['Education'] == i][['Education', 'Flights Booked']]\n",
    "    contador += 1\n",
    "\n",
    "grupo_bachelor = lista_education[0]\n",
    "grupo_college = lista_education[1]\n",
    "grupo_master = lista_education[2]\n",
    "grupo_highschool = lista_education[3]\n",
    "grupo_doctor = lista_education [4]\n",
    "\n",
    "print(f\"Los grupos que tenemos son {len(lista_education)}, que son:\\n\")\n",
    "\n",
    "print(\"BACHELOR ==>\")\n",
    "display(grupo_bachelor.head(3))\n",
    "\n",
    "print(\"COLLEGE ==>\")\n",
    "display(grupo_college.head(3))\n",
    "\n",
    "print(\"MASTER ==>\")\n",
    "display(grupo_master.head(3))\n",
    "\n",
    "print(\"HIGH SCHOOL ==>\")\n",
    "display(grupo_highschool.head(3))\n",
    "\n",
    "print(\"DOCTOR ==>\")\n",
    "display(grupo_doctor.head(3))\n",
    "\n",
    "\n",
    "# Con este bucle for tengo una lista \n"
   ]
  },
  {
   "cell_type": "markdown",
   "metadata": {},
   "source": [
    "### 3.2: Analisis Descriptivo"
   ]
  },
  {
   "cell_type": "code",
   "execution_count": 8,
   "metadata": {},
   "outputs": [
    {
     "name": "stdout",
     "output_type": "stream",
     "text": [
      "Vamos a calcular algunas medidas estadísticas descriptivas para cada grupo\n",
      "\n"
     ]
    },
    {
     "data": {
      "text/html": [
       "<div>\n",
       "<style scoped>\n",
       "    .dataframe tbody tr th:only-of-type {\n",
       "        vertical-align: middle;\n",
       "    }\n",
       "\n",
       "    .dataframe tbody tr th {\n",
       "        vertical-align: top;\n",
       "    }\n",
       "\n",
       "    .dataframe thead th {\n",
       "        text-align: right;\n",
       "    }\n",
       "</style>\n",
       "<table border=\"1\" class=\"dataframe\">\n",
       "  <thead>\n",
       "    <tr style=\"text-align: right;\">\n",
       "      <th></th>\n",
       "      <th>mean</th>\n",
       "      <th>median</th>\n",
       "      <th>sum</th>\n",
       "      <th>std</th>\n",
       "    </tr>\n",
       "    <tr>\n",
       "      <th>Education</th>\n",
       "      <th></th>\n",
       "      <th></th>\n",
       "      <th></th>\n",
       "      <th></th>\n",
       "    </tr>\n",
       "  </thead>\n",
       "  <tbody>\n",
       "    <tr>\n",
       "      <th>Bachelor</th>\n",
       "      <td>4.110288</td>\n",
       "      <td>1.0</td>\n",
       "      <td>1038123</td>\n",
       "      <td>5.221671</td>\n",
       "    </tr>\n",
       "  </tbody>\n",
       "</table>\n",
       "</div>"
      ],
      "text/plain": [
       "               mean  median      sum       std\n",
       "Education                                     \n",
       "Bachelor   4.110288     1.0  1038123  5.221671"
      ]
     },
     "metadata": {},
     "output_type": "display_data"
    },
    {
     "name": "stdout",
     "output_type": "stream",
     "text": [
      "-----------------------------------------------------------------------------------------\n"
     ]
    },
    {
     "data": {
      "text/html": [
       "<div>\n",
       "<style scoped>\n",
       "    .dataframe tbody tr th:only-of-type {\n",
       "        vertical-align: middle;\n",
       "    }\n",
       "\n",
       "    .dataframe tbody tr th {\n",
       "        vertical-align: top;\n",
       "    }\n",
       "\n",
       "    .dataframe thead th {\n",
       "        text-align: right;\n",
       "    }\n",
       "</style>\n",
       "<table border=\"1\" class=\"dataframe\">\n",
       "  <thead>\n",
       "    <tr style=\"text-align: right;\">\n",
       "      <th></th>\n",
       "      <th>mean</th>\n",
       "      <th>median</th>\n",
       "      <th>sum</th>\n",
       "      <th>std</th>\n",
       "    </tr>\n",
       "    <tr>\n",
       "      <th>Education</th>\n",
       "      <th></th>\n",
       "      <th></th>\n",
       "      <th></th>\n",
       "      <th></th>\n",
       "    </tr>\n",
       "  </thead>\n",
       "  <tbody>\n",
       "    <tr>\n",
       "      <th>College</th>\n",
       "      <td>4.169744</td>\n",
       "      <td>1.0</td>\n",
       "      <td>426398</td>\n",
       "      <td>5.24604</td>\n",
       "    </tr>\n",
       "  </tbody>\n",
       "</table>\n",
       "</div>"
      ],
      "text/plain": [
       "               mean  median     sum      std\n",
       "Education                                   \n",
       "College    4.169744     1.0  426398  5.24604"
      ]
     },
     "metadata": {},
     "output_type": "display_data"
    },
    {
     "name": "stdout",
     "output_type": "stream",
     "text": [
      "-----------------------------------------------------------------------------------------\n"
     ]
    },
    {
     "data": {
      "text/html": [
       "<div>\n",
       "<style scoped>\n",
       "    .dataframe tbody tr th:only-of-type {\n",
       "        vertical-align: middle;\n",
       "    }\n",
       "\n",
       "    .dataframe tbody tr th {\n",
       "        vertical-align: top;\n",
       "    }\n",
       "\n",
       "    .dataframe thead th {\n",
       "        text-align: right;\n",
       "    }\n",
       "</style>\n",
       "<table border=\"1\" class=\"dataframe\">\n",
       "  <thead>\n",
       "    <tr style=\"text-align: right;\">\n",
       "      <th></th>\n",
       "      <th>mean</th>\n",
       "      <th>median</th>\n",
       "      <th>sum</th>\n",
       "      <th>std</th>\n",
       "    </tr>\n",
       "    <tr>\n",
       "      <th>Education</th>\n",
       "      <th></th>\n",
       "      <th></th>\n",
       "      <th></th>\n",
       "      <th></th>\n",
       "    </tr>\n",
       "  </thead>\n",
       "  <tbody>\n",
       "    <tr>\n",
       "      <th>Master</th>\n",
       "      <td>4.2007</td>\n",
       "      <td>1.0</td>\n",
       "      <td>51614</td>\n",
       "      <td>5.213956</td>\n",
       "    </tr>\n",
       "  </tbody>\n",
       "</table>\n",
       "</div>"
      ],
      "text/plain": [
       "             mean  median    sum       std\n",
       "Education                                 \n",
       "Master     4.2007     1.0  51614  5.213956"
      ]
     },
     "metadata": {},
     "output_type": "display_data"
    },
    {
     "name": "stdout",
     "output_type": "stream",
     "text": [
      "-----------------------------------------------------------------------------------------\n"
     ]
    },
    {
     "data": {
      "text/html": [
       "<div>\n",
       "<style scoped>\n",
       "    .dataframe tbody tr th:only-of-type {\n",
       "        vertical-align: middle;\n",
       "    }\n",
       "\n",
       "    .dataframe tbody tr th {\n",
       "        vertical-align: top;\n",
       "    }\n",
       "\n",
       "    .dataframe thead th {\n",
       "        text-align: right;\n",
       "    }\n",
       "</style>\n",
       "<table border=\"1\" class=\"dataframe\">\n",
       "  <thead>\n",
       "    <tr style=\"text-align: right;\">\n",
       "      <th></th>\n",
       "      <th>mean</th>\n",
       "      <th>median</th>\n",
       "      <th>sum</th>\n",
       "      <th>std</th>\n",
       "    </tr>\n",
       "    <tr>\n",
       "      <th>Education</th>\n",
       "      <th></th>\n",
       "      <th></th>\n",
       "      <th></th>\n",
       "      <th></th>\n",
       "    </tr>\n",
       "  </thead>\n",
       "  <tbody>\n",
       "    <tr>\n",
       "      <th>High School or Below</th>\n",
       "      <td>4.176209</td>\n",
       "      <td>1.0</td>\n",
       "      <td>78993</td>\n",
       "      <td>5.239267</td>\n",
       "    </tr>\n",
       "  </tbody>\n",
       "</table>\n",
       "</div>"
      ],
      "text/plain": [
       "                          mean  median    sum       std\n",
       "Education                                              \n",
       "High School or Below  4.176209     1.0  78993  5.239267"
      ]
     },
     "metadata": {},
     "output_type": "display_data"
    },
    {
     "name": "stdout",
     "output_type": "stream",
     "text": [
      "-----------------------------------------------------------------------------------------\n"
     ]
    },
    {
     "data": {
      "text/html": [
       "<div>\n",
       "<style scoped>\n",
       "    .dataframe tbody tr th:only-of-type {\n",
       "        vertical-align: middle;\n",
       "    }\n",
       "\n",
       "    .dataframe tbody tr th {\n",
       "        vertical-align: top;\n",
       "    }\n",
       "\n",
       "    .dataframe thead th {\n",
       "        text-align: right;\n",
       "    }\n",
       "</style>\n",
       "<table border=\"1\" class=\"dataframe\">\n",
       "  <thead>\n",
       "    <tr style=\"text-align: right;\">\n",
       "      <th></th>\n",
       "      <th>mean</th>\n",
       "      <th>median</th>\n",
       "      <th>sum</th>\n",
       "      <th>std</th>\n",
       "    </tr>\n",
       "    <tr>\n",
       "      <th>Education</th>\n",
       "      <th></th>\n",
       "      <th></th>\n",
       "      <th></th>\n",
       "      <th></th>\n",
       "    </tr>\n",
       "  </thead>\n",
       "  <tbody>\n",
       "    <tr>\n",
       "      <th>Doctor</th>\n",
       "      <td>4.175512</td>\n",
       "      <td>1.0</td>\n",
       "      <td>74036</td>\n",
       "      <td>5.256971</td>\n",
       "    </tr>\n",
       "  </tbody>\n",
       "</table>\n",
       "</div>"
      ],
      "text/plain": [
       "               mean  median    sum       std\n",
       "Education                                   \n",
       "Doctor     4.175512     1.0  74036  5.256971"
      ]
     },
     "metadata": {},
     "output_type": "display_data"
    }
   ],
   "source": [
    "print(\"\"\"Vamos a calcular algunas medidas estadísticas descriptivas para cada grupo\n",
    "\"\"\")\n",
    "\n",
    "\n",
    "display(grupo_bachelor.groupby('Education')['Flights Booked'].agg(['mean', 'median', 'sum', 'std']))\n",
    "print(\"-----------------------------------------------------------------------------------------\")\n",
    "display(grupo_college.groupby('Education')['Flights Booked'].agg(['mean', 'median', 'sum', 'std']))\n",
    "print(\"-----------------------------------------------------------------------------------------\")\n",
    "display(grupo_master.groupby('Education')['Flights Booked'].agg(['mean', 'median', 'sum', 'std']))\n",
    "print(\"-----------------------------------------------------------------------------------------\")\n",
    "display(grupo_highschool.groupby('Education')['Flights Booked'].agg(['mean', 'median', 'sum', 'std']))\n",
    "print(\"-----------------------------------------------------------------------------------------\")\n",
    "display(grupo_doctor.groupby('Education')['Flights Booked'].agg(['mean', 'median', 'sum', 'std']))"
   ]
  },
  {
   "cell_type": "code",
   "execution_count": 9,
   "metadata": {},
   "outputs": [
    {
     "name": "stdout",
     "output_type": "stream",
     "text": [
      "\n",
      "Aparentemente, echando un vistado a las medidas estadisticas descriptivas no hay una diferencia significativa ni en media de \n",
      "vuelos alquilados por grupos, la mediana es igual tambien para todos los grupos, y la desviacion tipica igualmente es similar. \n",
      "El grupo que claramente destaca atendiendo al numero de vuelos totales es bachelor, seguido de college, posiblemente porque sean los grupos\n",
      "a los que mayoritariamente pertenecen nuestros clientes\n",
      "Education\n",
      "Bachelor                10475\n",
      "College                  4238\n",
      "Doctor                    734\n",
      "High School or Below      782\n",
      "Master                    508\n",
      "Name: Loyalty Number, dtype: int64\n",
      "Efectivamente, comprobamos que predominan claramente los clientes con educacion Bachelor y College\n"
     ]
    }
   ],
   "source": [
    "print(f\"\"\"\n",
    "Aparentemente, echando un vistado a las medidas estadisticas descriptivas no hay una diferencia significativa ni en media de \n",
    "vuelos alquilados por grupos, la mediana es igual tambien para todos los grupos, y la desviacion tipica igualmente es similar. \n",
    "El grupo que claramente destaca atendiendo al numero de vuelos totales es bachelor, seguido de college, posiblemente porque sean los grupos\n",
    "a los que mayoritariamente pertenecen nuestros clientes\n",
    "{customer_info.groupby('Education')['Loyalty Number'].count()}\n",
    "Efectivamente, comprobamos que predominan claramente los clientes con educacion Bachelor y College\"\"\")"
   ]
  },
  {
   "cell_type": "markdown",
   "metadata": {},
   "source": [
    "### 3.3: Prueba Estadistica"
   ]
  },
  {
   "cell_type": "code",
   "execution_count": 10,
   "metadata": {},
   "outputs": [
    {
     "name": "stdout",
     "output_type": "stream",
     "text": [
      "\n",
      "Primero definimos las hipótesis:\n",
      "- H0: No hay diferencia significativa entre grupos\n",
      "- H1: Sí hay una diferencia significativa entre grupos\n",
      "\n"
     ]
    }
   ],
   "source": [
    "print(\"\"\"\n",
    "Primero definimos las hipótesis:\n",
    "- H0: No hay diferencia significativa entre grupos\n",
    "- H1: Sí hay una diferencia significativa entre grupos\n",
    "\"\"\")"
   ]
  },
  {
   "cell_type": "code",
   "execution_count": 11,
   "metadata": {},
   "outputs": [
    {
     "name": "stdout",
     "output_type": "stream",
     "text": [
      "\n",
      "Lo siguiente que haremos es ver si sigue una distribución normal o no, para lo que usaremos el test de saphiro\n",
      "\n"
     ]
    }
   ],
   "source": [
    "print(\"\"\"\n",
    "Lo siguiente que haremos es ver si sigue una distribución normal o no, para lo que usaremos el test de saphiro\n",
    "\"\"\")"
   ]
  },
  {
   "cell_type": "code",
   "execution_count": 12,
   "metadata": {},
   "outputs": [
    {
     "data": {
      "text/html": [
       "<div>\n",
       "<style scoped>\n",
       "    .dataframe tbody tr th:only-of-type {\n",
       "        vertical-align: middle;\n",
       "    }\n",
       "\n",
       "    .dataframe tbody tr th {\n",
       "        vertical-align: top;\n",
       "    }\n",
       "\n",
       "    .dataframe thead th {\n",
       "        text-align: right;\n",
       "    }\n",
       "</style>\n",
       "<table border=\"1\" class=\"dataframe\">\n",
       "  <thead>\n",
       "    <tr style=\"text-align: right;\">\n",
       "      <th></th>\n",
       "      <th>Education</th>\n",
       "      <th>Flights Booked</th>\n",
       "    </tr>\n",
       "  </thead>\n",
       "  <tbody>\n",
       "    <tr>\n",
       "      <th>402104</th>\n",
       "      <td>Bachelor</td>\n",
       "      <td>0</td>\n",
       "    </tr>\n",
       "    <tr>\n",
       "      <th>349042</th>\n",
       "      <td>Bachelor</td>\n",
       "      <td>13</td>\n",
       "    </tr>\n",
       "    <tr>\n",
       "      <th>116398</th>\n",
       "      <td>Bachelor</td>\n",
       "      <td>7</td>\n",
       "    </tr>\n",
       "    <tr>\n",
       "      <th>330048</th>\n",
       "      <td>Bachelor</td>\n",
       "      <td>5</td>\n",
       "    </tr>\n",
       "    <tr>\n",
       "      <th>280960</th>\n",
       "      <td>College</td>\n",
       "      <td>17</td>\n",
       "    </tr>\n",
       "  </tbody>\n",
       "</table>\n",
       "</div>"
      ],
      "text/plain": [
       "       Education  Flights Booked\n",
       "402104  Bachelor               0\n",
       "349042  Bachelor              13\n",
       "116398  Bachelor               7\n",
       "330048  Bachelor               5\n",
       "280960   College              17"
      ]
     },
     "execution_count": 12,
     "metadata": {},
     "output_type": "execute_result"
    }
   ],
   "source": [
    "# Uno los dataframe para tener un unico dataframe con la info solo de las columnas Education y Flights Booked\n",
    "df_grupos_education = pd.concat([grupo_bachelor,grupo_college,grupo_doctor,grupo_highschool,grupo_master])\n",
    "df_grupos_education.sample(5)"
   ]
  },
  {
   "cell_type": "markdown",
   "metadata": {},
   "source": [
    "### NORMALIDAD"
   ]
  },
  {
   "cell_type": "code",
   "execution_count": 13,
   "metadata": {},
   "outputs": [
    {
     "name": "stdout",
     "output_type": "stream",
     "text": [
      "Los datos no se ajustan a una distribución normal (p-value = 1.5469185712625606e-164 )\n"
     ]
    },
    {
     "name": "stderr",
     "output_type": "stream",
     "text": [
      "C:\\Users\\Laura Romero\\AppData\\Local\\Packages\\PythonSoftwareFoundation.Python.3.11_qbz5n2kfra8p0\\LocalCache\\local-packages\\Python311\\site-packages\\scipy\\stats\\_axis_nan_policy.py:573: UserWarning: scipy.stats.shapiro: For N > 5000, computed p-value may not be accurate. Current N is 403760.\n",
      "  res = hypotest_fun_out(*samples, **kwds)\n"
     ]
    }
   ],
   "source": [
    "# Primero vamos a valorar si los datos siguen una distribución normal. \n",
    "# Lo haremos con el test estadístico shapiro\n",
    "p_value = shapiro(df_grupos_education['Flights Booked']).pvalue\n",
    "\n",
    "alpha = 0.05\n",
    "\n",
    "if p_value > alpha:\n",
    "    print(\"Los datos se ajustan a una distribución normal (p-value =\", p_value, \")\")\n",
    "else:\n",
    "    print(\"Los datos no se ajustan a una distribución normal (p-value =\", p_value, \")\")\n",
    "\n",
    "# En este caso sale un aviso de visual studio code diciendo que para grandes muestras es mejor usar otro test. "
   ]
  },
  {
   "cell_type": "code",
   "execution_count": 14,
   "metadata": {},
   "outputs": [
    {
     "name": "stdout",
     "output_type": "stream",
     "text": [
      "Los datos no se ajustan a una distribución normal (p-value = 0.0 )\n"
     ]
    }
   ],
   "source": [
    "# Por si acaso, repito el test de normalidad, pero en este caso usando el test de Kolmogorov\n",
    "p_value = kstest(df_grupos_education['Flights Booked'], \"norm\").pvalue\n",
    "\n",
    "alpha = 0.05\n",
    "if p_value > alpha:\n",
    "    print(\"Los datos se ajustan a una distribución normal (p-value =\", p_value, \")\")\n",
    "else:\n",
    "    print(\"Los datos no se ajustan a una distribución normal (p-value =\", p_value, \")\")"
   ]
  },
  {
   "cell_type": "markdown",
   "metadata": {},
   "source": [
    "### HOMOGENEIDAD VARIANZAS"
   ]
  },
  {
   "cell_type": "code",
   "execution_count": 22,
   "metadata": {},
   "outputs": [
    {
     "name": "stdout",
     "output_type": "stream",
     "text": [
      "p_value = 0.014969793534581529\n",
      "No hay diferencia significativa entre las varianzas de los grupos\n"
     ]
    }
   ],
   "source": [
    "# El siguiente paso es analizar la homogeneidad de las varianzas\n",
    "# Como estamos ante una distribución no normal usamos Levene. \n",
    "\n",
    "p_valor_varianza = stats.levene(grupo_bachelor['Flights Booked'],grupo_college['Flights Booked'],grupo_doctor['Flights Booked'],grupo_highschool['Flights Booked'],grupo_master['Flights Booked'], center = \"median\")[1]\n",
    "\n",
    "print(f\"p_value = {p_valor_varianza}\")\n",
    "if p_value > 0.05:\n",
    "    print(f\"No hay diferencia significativa entre las varianzas de los grupos\")\n",
    "else:\n",
    "    print(f\"Si hay diferencias significativas entre las varianzas de los grupos\")"
   ]
  },
  {
   "cell_type": "markdown",
   "metadata": {},
   "source": [
    "### PRUEBA NO PARAMÉTRICA"
   ]
  },
  {
   "cell_type": "code",
   "execution_count": null,
   "metadata": {},
   "outputs": [],
   "source": [
    "print(\"\"\"\n",
    "Como hay dos supuestos que no se cumplen, que son normalidad y homogeneidad de varianzas, tendremos que usar para verificar o descartar nuestra hipótesis\n",
    "pruebas de tipo no paramétrico, en este caso utilizaré el test de homogeneidad de medianas.\n",
    "\"\"\")"
   ]
  },
  {
   "cell_type": "code",
   "execution_count": 27,
   "metadata": {},
   "outputs": [
    {
     "name": "stdout",
     "output_type": "stream",
     "text": [
      "Para la métrica Flights Booked, las medianas son diferentes entre Bachelor y Master\n",
      "Para la métrica Flights Booked, las medianas son iguales entre Bachelor y Doctor\n",
      "Para la métrica Flights Booked, las medianas son diferentes entre Bachelor y High School or Below\n",
      "Para la métrica Flights Booked, las medianas son diferentes entre Bachelor y College\n",
      "Para la métrica Flights Booked, las medianas son iguales entre Master y Doctor\n",
      "Para la métrica Flights Booked, las medianas son iguales entre Master y High School or Below\n",
      "Para la métrica Flights Booked, las medianas son iguales entre Master y College\n",
      "Para la métrica Flights Booked, las medianas son iguales entre Doctor y High School or Below\n",
      "Para la métrica Flights Booked, las medianas son iguales entre Doctor y College\n",
      "Para la métrica Flights Booked, las medianas son iguales entre High School or Below y College\n"
     ]
    }
   ],
   "source": [
    "# Para hacer el estudio tengo dos opciones, o comparar cada grupo de dos a dos, para ver la relación entre los diferentes grupos. Pues no existe ningún test \n",
    "# que pueda hacer el estudio con los cinco grupos simultáneamente. \n",
    "\n",
    "grupos = [grupo_bachelor, grupo_master, grupo_doctor, grupo_highschool, grupo_college] # hago una lista con los 5 dataframes que contienen la informacion de cada grupo\n",
    "medianas_diferentes = [] # hago dos listas vacias para ir introduciendo los grupos con medianas distintas y iguales\n",
    "medianas_iguales = []\n",
    "grupo_ya_testeado = [] # para no repetir comparación (ejemplo: si tengo Bachelor-Master, no repetirlo a la inversa Master-Bachelor)\n",
    "\n",
    "for control in grupos:\n",
    "    grupo_ya_testeado.append(control['Education'].iloc[0]) \n",
    "    # Para que una vez que se evalue un grupo con otro, no se repita de nuevo al reves: ejemplo, si se ha visto que bachelor y master tienen medianas diferentes, \n",
    "    # siendo en ese caso Bachelor control y Master test, que cuando el control sea Master no vuelva a hacerse la comparacion con Bachelor, pues ya esta hecha. \n",
    "    for test in grupos:\n",
    "        if test['Education'].iloc[0] != control['Education'].iloc[0]: # para que no evalue mismo grupo con mismo grupo\n",
    "            if test['Education'].iloc[0] not in grupo_ya_testeado:\n",
    "                # aplicamos el estadístico de MannWhitney\n",
    "                u_statistic, p_value = stats.mannwhitneyu(control['Flights Booked'], test['Flights Booked'])\n",
    "                if p_value < 0.05:\n",
    "                    print(f\"Para la métrica Flights Booked, las medianas son diferentes entre {control['Education'].iloc[0]} y {test['Education'].iloc[0]}\")\n",
    "                    medianas_diferentes.append(f\"{control['Education'].iloc[0]} y {test['Education'].iloc[0]}\")\n",
    "                else:\n",
    "                    print(f\"Para la métrica Flights Booked, las medianas son iguales entre {control['Education'].iloc[0]} y {test['Education'].iloc[0]}\")\n",
    "                    medianas_iguales.append(f\"{control['Education'].iloc[0]} y {test['Education'].iloc[0]}\")"
   ]
  },
  {
   "cell_type": "code",
   "execution_count": 26,
   "metadata": {},
   "outputs": [
    {
     "name": "stdout",
     "output_type": "stream",
     "text": [
      "\n",
      "El resultado de comparar grupos dos a dos ha dado que las medianas son diferentes para ==> \n",
      "['Bachelor y Master', 'Bachelor y High School or Below', 'Bachelor y College']\n",
      "Numero de grupos discrepantes entre sí ==> 3\n",
      "----------------------------------------------------------------------------------------------------------------------------------------\n",
      "y con iguales para\n",
      "['Bachelor y Doctor', 'Master y Doctor', 'Master y High School or Below', 'Master y College', 'Doctor y High School or Below', 'Doctor y College', 'High School or Below y College']\n",
      "Numero de grupos similares entre sí ==> 7\n",
      "-----------------------------------------------------------------------------------------------------------------------------------------\n",
      "Las medianas son iguales para todos los grupos excepto en el caso de Bachelor, que solo tiene similitudes con Doctor, pero tiene diferencias\n",
      "significativas con el resto. \n",
      "Podríamos decir que el grupo menos similar al resto es Bachelor\n"
     ]
    }
   ],
   "source": [
    "print(f\"\"\"\n",
    "El resultado de comparar grupos dos a dos ha dado que las medianas son diferentes para ==> \n",
    "{medianas_diferentes}\n",
    "Numero de grupos discrepantes entre sí ==> {len(medianas_diferentes)}\n",
    "----------------------------------------------------------------------------------------------------------------------------------------\n",
    "y con iguales para\n",
    "{medianas_iguales}\n",
    "Numero de grupos similares entre sí ==> {len(medianas_iguales)}\n",
    "-----------------------------------------------------------------------------------------------------------------------------------------\n",
    "Las medianas son iguales para todos los grupos excepto en el caso de Bachelor, que solo tiene similitudes con Doctor, pero tiene diferencias\n",
    "significativas con el resto. \n",
    "Podríamos decir que el grupo menos similar al resto es Bachelor\"\"\")"
   ]
  },
  {
   "cell_type": "code",
   "execution_count": 29,
   "metadata": {},
   "outputs": [
    {
     "data": {
      "text/plain": [
       "Education\n",
       "Bachelor                 72451.061575\n",
       "College                  73479.000000\n",
       "Doctor                  178608.897820\n",
       "High School or Below     61071.718670\n",
       "Master                  103757.848425\n",
       "Name: Salary, dtype: float64"
      ]
     },
     "execution_count": 29,
     "metadata": {},
     "output_type": "execute_result"
    }
   ],
   "source": [
    "# Podemos hacerlo mirando si hay diferencia significativa entre la reserva de vuelos entre los grupos con mayores ingresos (Doctor y Master)\n",
    "# y los grupos con menor ingresos, pues los resultados de grupos evaluados a pares no son demasiado concluyentes. \n",
    "\n",
    "customer_info.groupby('Education')['Salary'].mean()\n",
    "\n",
    "# en este caso, como ya he evaluado normalidad y homogeneidad de varianzas podría usar directamente el estadistico Mann Whitney para estos dos grupos.\n",
    "\n",
    "grupo_altos_ingresos =  "
   ]
  },
  {
   "cell_type": "code",
   "execution_count": 38,
   "metadata": {},
   "outputs": [
    {
     "name": "stdout",
     "output_type": "stream",
     "text": [
      "\n",
      "El grupo de altos ingresos lo forma ==> ['Master' 'Doctor']\n",
      "El grupo de bajos ingresos lo forma ==> ['Bachelor' 'College' 'High School or Below']\n",
      "      \n",
      "Echamos un vistazo a ambos dataframes para ver que contienen la informacion que nos interesa, Education y Flights Booked\n"
     ]
    },
    {
     "data": {
      "text/html": [
       "<div>\n",
       "<style scoped>\n",
       "    .dataframe tbody tr th:only-of-type {\n",
       "        vertical-align: middle;\n",
       "    }\n",
       "\n",
       "    .dataframe tbody tr th {\n",
       "        vertical-align: top;\n",
       "    }\n",
       "\n",
       "    .dataframe thead th {\n",
       "        text-align: right;\n",
       "    }\n",
       "</style>\n",
       "<table border=\"1\" class=\"dataframe\">\n",
       "  <thead>\n",
       "    <tr style=\"text-align: right;\">\n",
       "      <th></th>\n",
       "      <th>Education</th>\n",
       "      <th>Flights Booked</th>\n",
       "    </tr>\n",
       "  </thead>\n",
       "  <tbody>\n",
       "    <tr>\n",
       "      <th>4707</th>\n",
       "      <td>Master</td>\n",
       "      <td>2</td>\n",
       "    </tr>\n",
       "    <tr>\n",
       "      <th>33838</th>\n",
       "      <td>Doctor</td>\n",
       "      <td>0</td>\n",
       "    </tr>\n",
       "    <tr>\n",
       "      <th>114000</th>\n",
       "      <td>Master</td>\n",
       "      <td>10</td>\n",
       "    </tr>\n",
       "    <tr>\n",
       "      <th>273217</th>\n",
       "      <td>Doctor</td>\n",
       "      <td>0</td>\n",
       "    </tr>\n",
       "  </tbody>\n",
       "</table>\n",
       "</div>"
      ],
      "text/plain": [
       "       Education  Flights Booked\n",
       "4707      Master               2\n",
       "33838     Doctor               0\n",
       "114000    Master              10\n",
       "273217    Doctor               0"
      ]
     },
     "metadata": {},
     "output_type": "display_data"
    },
    {
     "data": {
      "text/html": [
       "<div>\n",
       "<style scoped>\n",
       "    .dataframe tbody tr th:only-of-type {\n",
       "        vertical-align: middle;\n",
       "    }\n",
       "\n",
       "    .dataframe tbody tr th {\n",
       "        vertical-align: top;\n",
       "    }\n",
       "\n",
       "    .dataframe thead th {\n",
       "        text-align: right;\n",
       "    }\n",
       "</style>\n",
       "<table border=\"1\" class=\"dataframe\">\n",
       "  <thead>\n",
       "    <tr style=\"text-align: right;\">\n",
       "      <th></th>\n",
       "      <th>Education</th>\n",
       "      <th>Flights Booked</th>\n",
       "    </tr>\n",
       "  </thead>\n",
       "  <tbody>\n",
       "    <tr>\n",
       "      <th>181590</th>\n",
       "      <td>Bachelor</td>\n",
       "      <td>0</td>\n",
       "    </tr>\n",
       "    <tr>\n",
       "      <th>300664</th>\n",
       "      <td>Bachelor</td>\n",
       "      <td>0</td>\n",
       "    </tr>\n",
       "    <tr>\n",
       "      <th>104367</th>\n",
       "      <td>Bachelor</td>\n",
       "      <td>11</td>\n",
       "    </tr>\n",
       "    <tr>\n",
       "      <th>9712</th>\n",
       "      <td>Bachelor</td>\n",
       "      <td>12</td>\n",
       "    </tr>\n",
       "  </tbody>\n",
       "</table>\n",
       "</div>"
      ],
      "text/plain": [
       "       Education  Flights Booked\n",
       "181590  Bachelor               0\n",
       "300664  Bachelor               0\n",
       "104367  Bachelor              11\n",
       "9712    Bachelor              12"
      ]
     },
     "metadata": {},
     "output_type": "display_data"
    }
   ],
   "source": [
    "# Otra forma de hacerlo, que sería a la vez interesante, en lugar de evaluar los 5 grupos, evaluar los grupos con altos ingresos ()\n",
    "\n",
    "# grupo altos ingresos, filtro el dataframe para que contenga las columnas Education == Master o Education == Doctor\n",
    "grupo_altos_ingresos = customer_final[(customer_final['Education'] == 'Master')|(customer_final['Education'] == 'Doctor')][['Education', 'Flights Booked']]\n",
    "\n",
    "# Filtro igual que en el caso anterior, pero para que el dataframe bajos ingresos no contenga ni Master ni Doctor en la columna Education\n",
    "grupo_bajos_ingresos = customer_final[(customer_final['Education'] != 'Master')&(customer_final['Education'] != 'Doctor')][['Education', 'Flights Booked']]\n",
    "\n",
    "print(f\"\"\"\n",
    "El grupo de altos ingresos lo forma ==> {grupo_altos_ingresos['Education'].unique()}\n",
    "El grupo de bajos ingresos lo forma ==> {grupo_bajos_ingresos['Education'].unique()}\n",
    "      \"\"\")\n",
    "\n",
    "print(\"Echamos un vistazo a ambos dataframes para ver que contienen la informacion que nos interesa, Education y Flights Booked\")\n",
    "\n",
    "display(grupo_altos_ingresos.sample(4))\n",
    "display(grupo_bajos_ingresos.sample(4))"
   ]
  },
  {
   "cell_type": "code",
   "execution_count": 40,
   "metadata": {},
   "outputs": [
    {
     "name": "stdout",
     "output_type": "stream",
     "text": [
      "p_value = 0.029749016772146173\n",
      "Para la métrica Flights Booked, las medianas son diferentes entre ['Bachelor' 'College' 'High School or Below'] y ['Master' 'Doctor']\n"
     ]
    }
   ],
   "source": [
    "# Sobre estos dos grupos aplicariamos directamente el test de MannWhitney\n",
    "\n",
    "u_statistic, p_value_2 = stats.mannwhitneyu(grupo_altos_ingresos['Flights Booked'], grupo_bajos_ingresos['Flights Booked'])\n",
    "\n",
    "print(f\"p_value = {p_value_2}\")\n",
    "\n",
    "if p_value_2 < 0.05:\n",
    "    \n",
    "    print(f\"Para la métrica Flights Booked, las medianas son diferentes entre {grupo_bajos_ingresos['Education'].unique()} y {grupo_altos_ingresos['Education'].unique()}\")\n",
    "    \n",
    "else:\n",
    "    print(f\"Para la métrica Flights Booked, las medianas son iguales entre {grupo_bajos_ingresos['Education'].unique()} y {grupo_altos_ingresos['Education'].unique()}\")\n",
    "\n",
    "\n"
   ]
  }
 ],
 "metadata": {
  "kernelspec": {
   "display_name": "Python 3",
   "language": "python",
   "name": "python3"
  },
  "language_info": {
   "codemirror_mode": {
    "name": "ipython",
    "version": 3
   },
   "file_extension": ".py",
   "mimetype": "text/x-python",
   "name": "python",
   "nbconvert_exporter": "python",
   "pygments_lexer": "ipython3",
   "version": "3.11.9"
  }
 },
 "nbformat": 4,
 "nbformat_minor": 2
}
